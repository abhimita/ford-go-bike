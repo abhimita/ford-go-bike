{
 "cells": [
  {
   "cell_type": "markdown",
   "metadata": {
    "slideshow": {
     "slide_type": "slide"
    }
   },
   "source": [
    "# Ford Go Bike Analysis"
   ]
  },
  {
   "cell_type": "code",
   "execution_count": 1,
   "metadata": {
    "slideshow": {
     "slide_type": "skip"
    }
   },
   "outputs": [],
   "source": [
    "import requests\n",
    "import os\n",
    "import os.path\n",
    "from bs4 import BeautifulSoup\n",
    "import shutil\n",
    "import zipfile\n",
    "import shutil\n",
    "import pandas as pd\n",
    "import numpy as np\n",
    "import matplotlib.pyplot as plt\n",
    "import seaborn as sns\n",
    "from datetime import datetime, timedelta\n",
    "from geopy import Point, distance\n",
    "from matplotlib import rcParams\n",
    "from pandas.api.types import CategoricalDtype\n",
    "%matplotlib inline"
   ]
  },
  {
   "cell_type": "code",
   "execution_count": 2,
   "metadata": {
    "slideshow": {
     "slide_type": "skip"
    }
   },
   "outputs": [
    {
     "name": "stderr",
     "output_type": "stream",
     "text": [
      "/anaconda3/lib/python3.7/site-packages/IPython/core/interactiveshell.py:3020: DtypeWarning: Columns (1) have mixed types. Specify dtype option on import or set low_memory=False.\n",
      "  interactivity=interactivity, compiler=compiler, result=result)\n"
     ]
    },
    {
     "data": {
      "text/html": [
       "<div>\n",
       "<style scoped>\n",
       "    .dataframe tbody tr th:only-of-type {\n",
       "        vertical-align: middle;\n",
       "    }\n",
       "\n",
       "    .dataframe tbody tr th {\n",
       "        vertical-align: top;\n",
       "    }\n",
       "\n",
       "    .dataframe thead th {\n",
       "        text-align: right;\n",
       "    }\n",
       "</style>\n",
       "<table border=\"1\" class=\"dataframe\">\n",
       "  <thead>\n",
       "    <tr style=\"text-align: right;\">\n",
       "      <th></th>\n",
       "      <th>bike_id</th>\n",
       "      <th>bike_share_for_all_trip</th>\n",
       "      <th>duration_sec</th>\n",
       "      <th>end_station_id</th>\n",
       "      <th>end_station_latitude</th>\n",
       "      <th>end_station_longitude</th>\n",
       "      <th>end_station_name</th>\n",
       "      <th>end_time</th>\n",
       "      <th>member_birth_year</th>\n",
       "      <th>member_gender</th>\n",
       "      <th>start_station_id</th>\n",
       "      <th>start_station_latitude</th>\n",
       "      <th>start_station_longitude</th>\n",
       "      <th>start_station_name</th>\n",
       "      <th>start_time</th>\n",
       "      <th>user_type</th>\n",
       "      <th>computed_duration_sec</th>\n",
       "    </tr>\n",
       "  </thead>\n",
       "  <tbody>\n",
       "    <tr>\n",
       "      <th>0</th>\n",
       "      <td>4902</td>\n",
       "      <td>No</td>\n",
       "      <td>52185</td>\n",
       "      <td>13</td>\n",
       "      <td>37.794231</td>\n",
       "      <td>-122.402923</td>\n",
       "      <td>Commercial St at Montgomery St</td>\n",
       "      <td>2019-03-01 08:01:55.975</td>\n",
       "      <td>1984</td>\n",
       "      <td>Male</td>\n",
       "      <td>21</td>\n",
       "      <td>37.789625</td>\n",
       "      <td>-122.400811</td>\n",
       "      <td>Montgomery St BART Station (Market St at 2nd St)</td>\n",
       "      <td>2019-02-28 17:32:10.145</td>\n",
       "      <td>Customer</td>\n",
       "      <td>52185.0</td>\n",
       "    </tr>\n",
       "    <tr>\n",
       "      <th>1</th>\n",
       "      <td>5905</td>\n",
       "      <td>No</td>\n",
       "      <td>61854</td>\n",
       "      <td>3</td>\n",
       "      <td>37.786375</td>\n",
       "      <td>-122.404904</td>\n",
       "      <td>Powell St BART Station (Market St at 4th St)</td>\n",
       "      <td>2019-03-01 05:24:08.146</td>\n",
       "      <td>1972</td>\n",
       "      <td>Male</td>\n",
       "      <td>86</td>\n",
       "      <td>37.769305</td>\n",
       "      <td>-122.426826</td>\n",
       "      <td>Market St at Dolores St</td>\n",
       "      <td>2019-02-28 12:13:13.218</td>\n",
       "      <td>Customer</td>\n",
       "      <td>61854.0</td>\n",
       "    </tr>\n",
       "    <tr>\n",
       "      <th>2</th>\n",
       "      <td>6638</td>\n",
       "      <td>No</td>\n",
       "      <td>36490</td>\n",
       "      <td>70</td>\n",
       "      <td>37.773311</td>\n",
       "      <td>-122.444293</td>\n",
       "      <td>Central Ave at Fell St</td>\n",
       "      <td>2019-03-01 04:02:36.842</td>\n",
       "      <td>1989</td>\n",
       "      <td>Other</td>\n",
       "      <td>375</td>\n",
       "      <td>37.774836</td>\n",
       "      <td>-122.446546</td>\n",
       "      <td>Grove St at Masonic Ave</td>\n",
       "      <td>2019-02-28 17:54:26.010</td>\n",
       "      <td>Subscriber</td>\n",
       "      <td>36490.0</td>\n",
       "    </tr>\n",
       "    <tr>\n",
       "      <th>3</th>\n",
       "      <td>4898</td>\n",
       "      <td>Yes</td>\n",
       "      <td>1585</td>\n",
       "      <td>222</td>\n",
       "      <td>37.792714</td>\n",
       "      <td>-122.248780</td>\n",
       "      <td>10th Ave at E 15th St</td>\n",
       "      <td>2019-03-01 00:20:44.074</td>\n",
       "      <td>1974</td>\n",
       "      <td>Male</td>\n",
       "      <td>7</td>\n",
       "      <td>37.804562</td>\n",
       "      <td>-122.271738</td>\n",
       "      <td>Frank H Ogawa Plaza</td>\n",
       "      <td>2019-02-28 23:54:18.549</td>\n",
       "      <td>Subscriber</td>\n",
       "      <td>1585.0</td>\n",
       "    </tr>\n",
       "    <tr>\n",
       "      <th>4</th>\n",
       "      <td>5200</td>\n",
       "      <td>No</td>\n",
       "      <td>1793</td>\n",
       "      <td>323</td>\n",
       "      <td>37.798014</td>\n",
       "      <td>-122.405950</td>\n",
       "      <td>Broadway at Kearny</td>\n",
       "      <td>2019-03-01 00:19:51.760</td>\n",
       "      <td>1959</td>\n",
       "      <td>Male</td>\n",
       "      <td>93</td>\n",
       "      <td>37.770407</td>\n",
       "      <td>-122.391198</td>\n",
       "      <td>4th St at Mission Bay Blvd S</td>\n",
       "      <td>2019-02-28 23:49:58.632</td>\n",
       "      <td>Subscriber</td>\n",
       "      <td>1793.0</td>\n",
       "    </tr>\n",
       "  </tbody>\n",
       "</table>\n",
       "</div>"
      ],
      "text/plain": [
       "   bike_id bike_share_for_all_trip  duration_sec  end_station_id  \\\n",
       "0     4902                      No         52185              13   \n",
       "1     5905                      No         61854               3   \n",
       "2     6638                      No         36490              70   \n",
       "3     4898                     Yes          1585             222   \n",
       "4     5200                      No          1793             323   \n",
       "\n",
       "   end_station_latitude  end_station_longitude  \\\n",
       "0             37.794231            -122.402923   \n",
       "1             37.786375            -122.404904   \n",
       "2             37.773311            -122.444293   \n",
       "3             37.792714            -122.248780   \n",
       "4             37.798014            -122.405950   \n",
       "\n",
       "                               end_station_name                 end_time  \\\n",
       "0                Commercial St at Montgomery St  2019-03-01 08:01:55.975   \n",
       "1  Powell St BART Station (Market St at 4th St)  2019-03-01 05:24:08.146   \n",
       "2                        Central Ave at Fell St  2019-03-01 04:02:36.842   \n",
       "3                         10th Ave at E 15th St  2019-03-01 00:20:44.074   \n",
       "4                            Broadway at Kearny  2019-03-01 00:19:51.760   \n",
       "\n",
       "   member_birth_year member_gender  start_station_id  start_station_latitude  \\\n",
       "0               1984          Male                21               37.789625   \n",
       "1               1972          Male                86               37.769305   \n",
       "2               1989         Other               375               37.774836   \n",
       "3               1974          Male                 7               37.804562   \n",
       "4               1959          Male                93               37.770407   \n",
       "\n",
       "   start_station_longitude                                start_station_name  \\\n",
       "0              -122.400811  Montgomery St BART Station (Market St at 2nd St)   \n",
       "1              -122.426826                           Market St at Dolores St   \n",
       "2              -122.446546                           Grove St at Masonic Ave   \n",
       "3              -122.271738                               Frank H Ogawa Plaza   \n",
       "4              -122.391198                      4th St at Mission Bay Blvd S   \n",
       "\n",
       "                start_time   user_type  computed_duration_sec  \n",
       "0  2019-02-28 17:32:10.145    Customer                52185.0  \n",
       "1  2019-02-28 12:13:13.218    Customer                61854.0  \n",
       "2  2019-02-28 17:54:26.010  Subscriber                36490.0  \n",
       "3  2019-02-28 23:54:18.549  Subscriber                 1585.0  \n",
       "4  2019-02-28 23:49:58.632  Subscriber                 1793.0  "
      ]
     },
     "execution_count": 2,
     "metadata": {},
     "output_type": "execute_result"
    }
   ],
   "source": [
    "\n",
    "df = pd.read_csv(\"./data/cleaned_df.csv\")\n",
    "df.head()"
   ]
  },
  {
   "cell_type": "markdown",
   "metadata": {
    "slideshow": {
     "slide_type": "slide"
    }
   },
   "source": [
    "### Who are bike renters?\n",
    "\n",
    "* 74% of the total bike rentals are done by men\n",
    "* 24% by females. Gender ratio between male and female is approximately 3:1. \n",
    "* There a small percentage that belongs to other category but we can ignore it for analysis purposes."
   ]
  },
  {
   "cell_type": "code",
   "execution_count": 5,
   "metadata": {
    "slideshow": {
     "slide_type": "skip"
    }
   },
   "outputs": [],
   "source": [
    "# Scale values in y axis (express in thousands)\n",
    "def scale_yaxis(ax):\n",
    "    fig.canvas.draw()\n",
    "    ax.set_yticklabels([y.get_text()[:-3]  for y in ax.get_yticklabels()])"
   ]
  },
  {
   "cell_type": "code",
   "execution_count": 6,
   "metadata": {
    "slideshow": {
     "slide_type": "slide"
    }
   },
   "outputs": [
    {
     "data": {
      "image/png": "[encoded data removed]",
      "text/plain": [
       "<Figure size 576x576 with 1 Axes>"
      ]
     },
     "metadata": {},
     "output_type": "display_data"
    }
   ],
   "source": [
    "ax = \\\n",
    "df[['bike_id', 'member_gender']]\\\n",
    ".groupby('member_gender')\\\n",
    ".agg({'bike_id': 'count'})\\\n",
    ".reset_index()\\\n",
    ".rename(columns={'bike_id': 'rental_count'})\\\n",
    ".sort_values(by=['rental_count'], ascending=[False])\\\n",
    ".reset_index(drop=True)\\\n",
    ".set_index('member_gender')\\\n",
    ".plot.pie(y=0, \n",
    "          autopct='%1.0f%%', \n",
    "          startangle=90,\n",
    "          counterclock=False,\n",
    "          figsize=(8, 8))\n",
    "\n",
    "ax.set_title('% Rental count by gender');\n",
    "ax.set_ylabel('');\n"
   ]
  },
  {
   "cell_type": "markdown",
   "metadata": {
    "slideshow": {
     "slide_type": "slide"
    }
   },
   "source": [
    "### Which age category do they belong to?\n",
    "\n",
    "* Median age of female biker = 32\n",
    "* Median age of male biker = 33"
   ]
  },
  {
   "cell_type": "code",
   "execution_count": 7,
   "metadata": {
    "slideshow": {
     "slide_type": "slide"
    }
   },
   "outputs": [
    {
     "ename": "KeyError",
     "evalue": "\"['member_age' 'distance_in_mile'] not in index\"",
     "output_type": "error",
     "traceback": [
      "\u001b[0;31m---------------------------------------------------------------------------\u001b[0m",
      "\u001b[0;31mKeyError\u001b[0m                                  Traceback (most recent call last)",
      "\u001b[0;32m<ipython-input-7-3929ff94840b>\u001b[0m in \u001b[0;36m<module>\u001b[0;34m\u001b[0m\n\u001b[1;32m      1\u001b[0m \u001b[0mgender_age_df\u001b[0m \u001b[0;34m=\u001b[0m \u001b[0mdf\u001b[0m\u001b[0;34m.\u001b[0m\u001b[0mquery\u001b[0m\u001b[0;34m(\u001b[0m\u001b[0;34m\"member_gender == 'Female' or member_gender == 'Male'\"\u001b[0m\u001b[0;34m)\u001b[0m\u001b[0;31m\\\u001b[0m\u001b[0;34m\u001b[0m\u001b[0;34m\u001b[0m\u001b[0m\n\u001b[0;32m----> 2\u001b[0;31m \u001b[0;34m[\u001b[0m\u001b[0;34m[\u001b[0m\u001b[0;34m'bike_id'\u001b[0m\u001b[0;34m,\u001b[0m \u001b[0;34m'member_gender'\u001b[0m\u001b[0;34m,\u001b[0m \u001b[0;34m'member_age'\u001b[0m\u001b[0;34m,\u001b[0m \u001b[0;34m'user_type'\u001b[0m\u001b[0;34m,\u001b[0m \u001b[0;34m'duration_sec'\u001b[0m\u001b[0;34m,\u001b[0m \u001b[0;34m'distance_in_mile'\u001b[0m\u001b[0;34m]\u001b[0m\u001b[0;34m]\u001b[0m\u001b[0;34m\u001b[0m\u001b[0;34m\u001b[0m\u001b[0m\n\u001b[0m\u001b[1;32m      3\u001b[0m \u001b[0mgender_age_df\u001b[0m\u001b[0;34m[\u001b[0m\u001b[0;34m'duration_min'\u001b[0m\u001b[0;34m]\u001b[0m \u001b[0;34m=\u001b[0m \u001b[0mgender_age_df\u001b[0m\u001b[0;34m.\u001b[0m\u001b[0mduration_sec\u001b[0m \u001b[0;34m/\u001b[0m \u001b[0;36m60\u001b[0m\u001b[0;34m\u001b[0m\u001b[0;34m\u001b[0m\u001b[0m\n\u001b[1;32m      4\u001b[0m \u001b[0mfig\u001b[0m\u001b[0;34m,\u001b[0m \u001b[0max\u001b[0m \u001b[0;34m=\u001b[0m \u001b[0mplt\u001b[0m\u001b[0;34m.\u001b[0m\u001b[0msubplots\u001b[0m\u001b[0;34m(\u001b[0m\u001b[0mfigsize\u001b[0m\u001b[0;34m=\u001b[0m\u001b[0;34m(\u001b[0m\u001b[0;36m10\u001b[0m\u001b[0;34m,\u001b[0m\u001b[0;36m5\u001b[0m\u001b[0;34m)\u001b[0m\u001b[0;34m)\u001b[0m\u001b[0;34m\u001b[0m\u001b[0;34m\u001b[0m\u001b[0m\n\u001b[1;32m      5\u001b[0m \u001b[0mcolor\u001b[0m \u001b[0;34m=\u001b[0m \u001b[0msns\u001b[0m\u001b[0;34m.\u001b[0m\u001b[0mcolor_palette\u001b[0m\u001b[0;34m(\u001b[0m\u001b[0;34m)\u001b[0m\u001b[0;34m\u001b[0m\u001b[0;34m\u001b[0m\u001b[0m\n",
      "\u001b[0;32m/anaconda3/lib/python3.7/site-packages/pandas/core/frame.py\u001b[0m in \u001b[0;36m__getitem__\u001b[0;34m(self, key)\u001b[0m\n\u001b[1;32m   2680\u001b[0m         \u001b[0;32mif\u001b[0m \u001b[0misinstance\u001b[0m\u001b[0;34m(\u001b[0m\u001b[0mkey\u001b[0m\u001b[0;34m,\u001b[0m \u001b[0;34m(\u001b[0m\u001b[0mSeries\u001b[0m\u001b[0;34m,\u001b[0m \u001b[0mnp\u001b[0m\u001b[0;34m.\u001b[0m\u001b[0mndarray\u001b[0m\u001b[0;34m,\u001b[0m \u001b[0mIndex\u001b[0m\u001b[0;34m,\u001b[0m \u001b[0mlist\u001b[0m\u001b[0;34m)\u001b[0m\u001b[0;34m)\u001b[0m\u001b[0;34m:\u001b[0m\u001b[0;34m\u001b[0m\u001b[0;34m\u001b[0m\u001b[0m\n\u001b[1;32m   2681\u001b[0m             \u001b[0;31m# either boolean or fancy integer index\u001b[0m\u001b[0;34m\u001b[0m\u001b[0;34m\u001b[0m\u001b[0;34m\u001b[0m\u001b[0m\n\u001b[0;32m-> 2682\u001b[0;31m             \u001b[0;32mreturn\u001b[0m \u001b[0mself\u001b[0m\u001b[0;34m.\u001b[0m\u001b[0m_getitem_array\u001b[0m\u001b[0;34m(\u001b[0m\u001b[0mkey\u001b[0m\u001b[0;34m)\u001b[0m\u001b[0;34m\u001b[0m\u001b[0;34m\u001b[0m\u001b[0m\n\u001b[0m\u001b[1;32m   2683\u001b[0m         \u001b[0;32melif\u001b[0m \u001b[0misinstance\u001b[0m\u001b[0;34m(\u001b[0m\u001b[0mkey\u001b[0m\u001b[0;34m,\u001b[0m \u001b[0mDataFrame\u001b[0m\u001b[0;34m)\u001b[0m\u001b[0;34m:\u001b[0m\u001b[0;34m\u001b[0m\u001b[0;34m\u001b[0m\u001b[0m\n\u001b[1;32m   2684\u001b[0m             \u001b[0;32mreturn\u001b[0m \u001b[0mself\u001b[0m\u001b[0;34m.\u001b[0m\u001b[0m_getitem_frame\u001b[0m\u001b[0;34m(\u001b[0m\u001b[0mkey\u001b[0m\u001b[0;34m)\u001b[0m\u001b[0;34m\u001b[0m\u001b[0;34m\u001b[0m\u001b[0m\n",
      "\u001b[0;32m/anaconda3/lib/python3.7/site-packages/pandas/core/frame.py\u001b[0m in \u001b[0;36m_getitem_array\u001b[0;34m(self, key)\u001b[0m\n\u001b[1;32m   2724\u001b[0m             \u001b[0;32mreturn\u001b[0m \u001b[0mself\u001b[0m\u001b[0;34m.\u001b[0m\u001b[0m_take\u001b[0m\u001b[0;34m(\u001b[0m\u001b[0mindexer\u001b[0m\u001b[0;34m,\u001b[0m \u001b[0maxis\u001b[0m\u001b[0;34m=\u001b[0m\u001b[0;36m0\u001b[0m\u001b[0;34m)\u001b[0m\u001b[0;34m\u001b[0m\u001b[0;34m\u001b[0m\u001b[0m\n\u001b[1;32m   2725\u001b[0m         \u001b[0;32melse\u001b[0m\u001b[0;34m:\u001b[0m\u001b[0;34m\u001b[0m\u001b[0;34m\u001b[0m\u001b[0m\n\u001b[0;32m-> 2726\u001b[0;31m             \u001b[0mindexer\u001b[0m \u001b[0;34m=\u001b[0m \u001b[0mself\u001b[0m\u001b[0;34m.\u001b[0m\u001b[0mloc\u001b[0m\u001b[0;34m.\u001b[0m\u001b[0m_convert_to_indexer\u001b[0m\u001b[0;34m(\u001b[0m\u001b[0mkey\u001b[0m\u001b[0;34m,\u001b[0m \u001b[0maxis\u001b[0m\u001b[0;34m=\u001b[0m\u001b[0;36m1\u001b[0m\u001b[0;34m)\u001b[0m\u001b[0;34m\u001b[0m\u001b[0;34m\u001b[0m\u001b[0m\n\u001b[0m\u001b[1;32m   2727\u001b[0m             \u001b[0;32mreturn\u001b[0m \u001b[0mself\u001b[0m\u001b[0;34m.\u001b[0m\u001b[0m_take\u001b[0m\u001b[0;34m(\u001b[0m\u001b[0mindexer\u001b[0m\u001b[0;34m,\u001b[0m \u001b[0maxis\u001b[0m\u001b[0;34m=\u001b[0m\u001b[0;36m1\u001b[0m\u001b[0;34m)\u001b[0m\u001b[0;34m\u001b[0m\u001b[0;34m\u001b[0m\u001b[0m\n\u001b[1;32m   2728\u001b[0m \u001b[0;34m\u001b[0m\u001b[0m\n",
      "\u001b[0;32m/anaconda3/lib/python3.7/site-packages/pandas/core/indexing.py\u001b[0m in \u001b[0;36m_convert_to_indexer\u001b[0;34m(self, obj, axis, is_setter)\u001b[0m\n\u001b[1;32m   1325\u001b[0m                 \u001b[0;32mif\u001b[0m \u001b[0mmask\u001b[0m\u001b[0;34m.\u001b[0m\u001b[0many\u001b[0m\u001b[0;34m(\u001b[0m\u001b[0;34m)\u001b[0m\u001b[0;34m:\u001b[0m\u001b[0;34m\u001b[0m\u001b[0;34m\u001b[0m\u001b[0m\n\u001b[1;32m   1326\u001b[0m                     raise KeyError('{mask} not in index'\n\u001b[0;32m-> 1327\u001b[0;31m                                    .format(mask=objarr[mask]))\n\u001b[0m\u001b[1;32m   1328\u001b[0m \u001b[0;34m\u001b[0m\u001b[0m\n\u001b[1;32m   1329\u001b[0m                 \u001b[0;32mreturn\u001b[0m \u001b[0mcom\u001b[0m\u001b[0;34m.\u001b[0m\u001b[0m_values_from_object\u001b[0m\u001b[0;34m(\u001b[0m\u001b[0mindexer\u001b[0m\u001b[0;34m)\u001b[0m\u001b[0;34m\u001b[0m\u001b[0;34m\u001b[0m\u001b[0m\n",
      "\u001b[0;31mKeyError\u001b[0m: \"['member_age' 'distance_in_mile'] not in index\""
     ]
    }
   ],
   "source": [
    "gender_age_df = df.query(\"member_gender == 'Female' or member_gender == 'Male'\")\\\n",
    "[['bike_id', 'member_gender', 'member_age', 'user_type', 'duration_sec', 'distance_in_mile']]\n",
    "gender_age_df['duration_min'] = gender_age_df.duration_sec / 60\n",
    "fig, ax = plt.subplots(figsize=(10,5))\n",
    "color = sns.color_palette()\n",
    "\n",
    "ax = sns.boxplot(x=\"member_gender\", y=\"member_age\", data=gender_age_df, color=color[0])\n",
    "ax.set_ylabel('Age (In years)')\n",
    "ax.set_title('Distribution of member age by gender');\n"
   ]
  },
  {
   "cell_type": "markdown",
   "metadata": {
    "slideshow": {
     "slide_type": "slide"
    }
   },
   "source": [
    "### Does subscribers & non-subscribers show different age profile?\n",
    "\n",
    "* Non-subscribers are relatively younger people. Subscribers have higher median age as well and higher 25 & 75 percentile values compared to non-subscribers (customers). This observation holds good for both genders.\n",
    "\n",
    "* Median age of female and male subscribers are 32 & 33 years respectievly compared to 30 & 31 for same gender category in customers."
   ]
  },
  {
   "cell_type": "code",
   "execution_count": null,
   "metadata": {
    "slideshow": {
     "slide_type": "slide"
    }
   },
   "outputs": [],
   "source": [
    "g = sns.catplot(\n",
    "    x=\"member_gender\", \n",
    "    y=\"member_age\", \n",
    "    col=\"user_type\", \n",
    "    data=gender_age_df, \n",
    "    kind=\"box\", \n",
    "    color = sns.color_palette()[0]\n",
    ")\n",
    "plt.gcf().set_size_inches(16, 8)\n",
    "plt.suptitle('Distribution of age by user type and gender', size=16)\n",
    "plt.subplots_adjust(top=0.85)\n",
    "g.axes[0][0].set_ylabel('Age', size=16)\n",
    "g.axes[0][0].set_xlabel('Gender', size=16)\n",
    "g.axes[0][1].set_xlabel('Gender', size=16)\n",
    "g.axes[0][0].set_title('User Type = Customer', size=16)\n",
    "g.axes[0][1].set_title('User Type = Subscriber', size=16);\n"
   ]
  },
  {
   "cell_type": "markdown",
   "metadata": {
    "slideshow": {
     "slide_type": "slide"
    }
   },
   "source": [
    "### Who rides more - subscribers or customers?\n",
    "\n",
    "* On an average, customers travel more miles than subscribers\n",
    "* Medain value of bike ride duration for customers is higher than that of subscribers"
   ]
  },
  {
   "cell_type": "code",
   "execution_count": null,
   "metadata": {
    "slideshow": {
     "slide_type": "slide"
    }
   },
   "outputs": [],
   "source": [
    "g = sns.catplot(\n",
    "    x=\"member_gender\", \n",
    "    y=\"distance_in_mile\", \n",
    "    col=\"user_type\", \n",
    "    data=gender_age_df, \n",
    "    kind=\"box\", \n",
    "    color = sns.color_palette()[0]\n",
    ")\n",
    "plt.gcf().set_size_inches(16, 8)\n",
    "plt.suptitle('Distribution of distance (mile) by user type and gender', size=16)\n",
    "plt.subplots_adjust(top=0.85)\n",
    "g.axes[0][0].set_ylabel('Distance (mile)', size=16)\n",
    "g.axes[0][0].set_xlabel('Gender', size=16)\n",
    "g.axes[0][0].set_ylim(bottom=0,top=3)\n",
    "g.axes[0][1].set_xlabel('Gender', size=16)\n",
    "g.axes[0][1].set_ylim(bottom=0,top=3)\n",
    "g.axes[0][0].set_title('User Type = Customer', size=16)\n",
    "g.axes[0][1].set_title('User Type = Subscriber', size=16);"
   ]
  },
  {
   "cell_type": "code",
   "execution_count": null,
   "metadata": {
    "slideshow": {
     "slide_type": "slide"
    }
   },
   "outputs": [],
   "source": [
    "g = sns.catplot(\n",
    "    x=\"member_gender\", \n",
    "    y=\"duration_min\", \n",
    "    col=\"user_type\", \n",
    "    data=gender_age_df, \n",
    "    kind=\"box\", \n",
    "    color = sns.color_palette()[1]\n",
    ")\n",
    "plt.gcf().set_size_inches(16, 8)\n",
    "plt.suptitle('Distribution of duration (min) by user type and gender', size=16)\n",
    "plt.subplots_adjust(top=0.85)\n",
    "g.axes[0][0].set_ylabel('Duration (min)', size=16)\n",
    "g.axes[0][0].set_xlabel('Gender', size=16)\n",
    "g.axes[0][0].set_ylim(bottom=0,top=50)\n",
    "g.axes[0][1].set_xlabel('Gender', size=16)\n",
    "g.axes[0][1].set_ylim(bottom=0,top=50)\n",
    "g.axes[0][0].set_title('User Type = Customer', size=16)\n",
    "g.axes[0][1].set_title('User Type = Subscriber', size=16);"
   ]
  },
  {
   "cell_type": "code",
   "execution_count": null,
   "metadata": {
    "slideshow": {
     "slide_type": "skip"
    }
   },
   "outputs": [],
   "source": [
    "gender_user_agg_df = \\\n",
    "gender_age_df.query(\"member_gender == 'Male' or member_gender == 'Female'\")[['duration_min', 'distance_in_mile', 'bike_id', 'user_type', 'member_gender']]\\\n",
    ".groupby(['user_type', 'member_gender'])\\\n",
    ".agg({'bike_id': 'count', 'duration_min': {'median'}, 'distance_in_mile': {'median'}})\\\n",
    ".reset_index()\\\n",
    ".rename(columns={'bike_id': 'rental_count'})\n",
    "\n",
    "gender_user_agg_df.columns = gender_user_agg_df.columns.droplevel(1)\n",
    "gender_user_agg_df.columns = ['user_type', 'member_gender', 'rental_count', 'median_duration_min', 'median_distance_mile']\n",
    "\n",
    "gender_user_agg_df\n"
   ]
  },
  {
   "cell_type": "code",
   "execution_count": null,
   "metadata": {
    "slideshow": {
     "slide_type": "skip"
    }
   },
   "outputs": [],
   "source": [
    "\n",
    "\n",
    "# Visualization of monthly metrics\n",
    "fig, ax = plt.subplots(1, 3, figsize=(20,8),sharex=True)\n",
    "fig.suptitle('Ride duration, distance traveled and rental count by user type & gender', fontsize=20)\n",
    "\n",
    "metrics = ['median_duration_min','median_distance_mile', 'rental_count']\n",
    "for i,j in enumerate(range(len(ax))):\n",
    "    g = sns.catplot(x=\"member_gender\", y=metrics[i], hue=\"user_type\", data=gender_user_agg_df, kind=\"bar\", ax=ax[j])    \n",
    "\n",
    "y_labels = ['Median Ride duration (min)', 'Median Distance traveled (mile)', 'Rental count']\n",
    "for i in range(len(ax)):\n",
    "    ax[i].set_ylabel('%s' % y_labels[i], fontsize=12)\n",
    "    ax[i].set_xlabel('Gender', fontsize=12)\n",
    "    if (i == len(ax) - 1):\n",
    "        ax[i].tick_params(labelrotation=45)\n",
    "\n",
    "# Hack to eliminate empty grids at the end\n",
    "for i in range(2,5):\n",
    "    plt.close(i)\n",
    "\n"
   ]
  },
  {
   "cell_type": "markdown",
   "metadata": {
    "slideshow": {
     "slide_type": "skip"
    }
   },
   "source": [
    "On the average, customers tend to travel more miles per ride compared to subscribers. Their average duration is also higher compared to subscribers.\n",
    "\n",
    "Number of rental count for subscribers is several times higher than occasional customers. This seems logical as subscribers pay monthly fee to get that service and they may wish maximize the benefit of paid subscription."
   ]
  },
  {
   "cell_type": "code",
   "execution_count": null,
   "metadata": {
    "slideshow": {
     "slide_type": "skip"
    }
   },
   "outputs": [],
   "source": [
    "# Compute monthly metrics - cumulative rental count, cumulative distance & cumulative usage in hours\n",
    "monthly_metric_df = \\\n",
    "df.query('end_time_year_month < \"2019-03\"')[['end_time_year_month', 'bike_id', 'duration_sec', 'distance_in_mile']]\\\n",
    ".groupby(['end_time_year_month'])\\\n",
    ".agg({'bike_id': ['count', lambda x: x.nunique()], 'duration_sec': 'sum', 'distance_in_mile': 'sum'})\\\n",
    ".reset_index()\n",
    "\n",
    "monthly_metric_df.columns = monthly_metric_df.columns.droplevel(1)\n",
    "\n",
    "monthly_metric_df.columns = ['end_time_year_month', 'rental_count', 'bike_count', 'duration_sec', 'distance_in_mile']\n",
    "\n",
    "monthly_metric_df['cumulative_rental_count'] = monthly_metric_df.rental_count.transform(np.cumsum)\n",
    "monthly_metric_df['cumulative_distance_in_mile'] = monthly_metric_df.distance_in_mile.transform(np.cumsum)\n",
    "monthly_metric_df['cumulative_duration_hours'] = (monthly_metric_df.duration_sec.transform(np.cumsum) / (60 * 60))\n"
   ]
  },
  {
   "cell_type": "markdown",
   "metadata": {
    "slideshow": {
     "slide_type": "slide"
    }
   },
   "source": [
    "### How is the business doing in past few years?\n",
    "\n",
    "* All three cumulative values show steady upward trend with almost equal slope indicating growth of business. \n",
    "* There is growth spurt from April 2018 till October 2018 showing relatively higher growth rate compared to same period in previous year. After October 2018, rental business shows signs of slow down. \n"
   ]
  },
  {
   "cell_type": "code",
   "execution_count": null,
   "metadata": {
    "slideshow": {
     "slide_type": "slide"
    }
   },
   "outputs": [],
   "source": [
    "# Visualization of monthly metrics\n",
    "fig, ax = plt.subplots(1, 3, figsize=(20,6),sharex=True)\n",
    "fig.suptitle('Cumulative Ride duration, distance traveled and rental count by month', fontsize=20)\n",
    "\n",
    "metrics = ['cumulative_duration_hours','cumulative_distance_in_mile', 'cumulative_rental_count']\n",
    "for i,j in enumerate(range(len(ax))):\n",
    "    sns.set(style=\"whitegrid\")\n",
    "    g = sns.lineplot(x=\"end_time_year_month\", y=metrics[i], data=monthly_metric_df, ax=ax[j])    \n",
    "\n",
    "y_labels = ['Cum. ride duration (hours)', 'Cum. distance traveled (mile)', 'Cum. rental count']\n",
    "\n",
    "xtick_labels = [x if index % 2 == 0 else '' for index, x in enumerate(monthly_metric_df.end_time_year_month.unique().tolist())]\n",
    "for i in range(len(ax)):\n",
    "    ax[i].tick_params(labelrotation=45)\n",
    "    ax[i].set_xticklabels(xtick_labels)\n",
    "    ax[i].set_ylabel('%s' % y_labels[i], fontsize=14)\n",
    "    ax[i].set_xlabel('Months (Year-month)', fontsize=14)\n",
    "\n",
    "\n",
    "# Hack to eliminate empty grids at the end\n",
    "for i in range(2,5):\n",
    "    plt.close(i)"
   ]
  },
  {
   "cell_type": "markdown",
   "metadata": {
    "slideshow": {
     "slide_type": "slide"
    }
   },
   "source": [
    "### Does rental volume show seasonality?\n",
    "\n",
    "* Bike rental volume goes down during winter season which is also the season when it rains.\n",
    "* Dip in monthly volume can be observer in Nov_dec 2017 and again getting repeated in 2018"
   ]
  },
  {
   "cell_type": "code",
   "execution_count": null,
   "metadata": {
    "slideshow": {
     "slide_type": "slide"
    }
   },
   "outputs": [],
   "source": [
    "# Line graph visualization for monthly bike rental count and biked duration plotted in dual-axis graph\n",
    "fig, ax = plt.subplots(figsize=(16,8))\n",
    "\n",
    "line1 = ax.plot(monthly_metric_df.end_time_year_month, monthly_metric_df.rental_count, alpha=0.6, c='b')\n",
    "\n",
    "ax.set_xticklabels([x for x in monthly_metric_df.end_time_year_month], rotation=40)\n",
    "ax.set_title('Bike rental count & rental duration by month', fontsize=14)\n",
    "ax.set_xlabel('Rental Date (Year-Month)', fontsize=14)\n",
    "ax.set_ylabel('Rental count',fontsize=14) \n",
    "\n",
    "ax2 = ax.twinx()\n",
    "line2 = ax2.plot(monthly_metric_df.end_time_year_month, monthly_metric_df.duration_sec / (60 * 60), c='r', alpha=0.6)\n",
    "ax2.set_ylabel('Rental duration (hour)',fontsize=14);\n",
    "h1, l1 = ax.get_legend_handles_labels()\n",
    "h2, l2 = ax2.get_legend_handles_labels()\n",
    "plt.legend(h1 + h2, ['rental count', 'duration (hours)'], loc=2);"
   ]
  },
  {
   "cell_type": "code",
   "execution_count": null,
   "metadata": {
    "slideshow": {
     "slide_type": "skip"
    }
   },
   "outputs": [],
   "source": [
    "gender_agg_df = df[['end_time_year_month', 'member_gender', 'bike_id']]\\\n",
    ".groupby(['member_gender', 'end_time_year_month'], as_index=False)\\\n",
    ".agg({'bike_id': 'count'})\\\n",
    ".rename(columns={'bike_id': 'rental_count'})\\\n",
    ".pivot(index='end_time_year_month', columns='member_gender', values='rental_count')\\\n",
    ".reset_index()"
   ]
  },
  {
   "cell_type": "code",
   "execution_count": null,
   "metadata": {
    "slideshow": {
     "slide_type": "skip"
    }
   },
   "outputs": [],
   "source": [
    "# Compute rental number and get last year's metric value for same month in one record\n",
    "from dateutil.relativedelta import relativedelta\n",
    "seasonal_df = \\\n",
    "df.query('end_time_year_month < \"2019-03\"')[['end_time_year_month', 'bike_id']]\\\n",
    ".groupby(['end_time_year_month'])\\\n",
    ".agg({'bike_id': 'count'})\\\n",
    ".reset_index()\\\n",
    ".rename(columns={'bike_id': 'rental_count'})\n",
    "seasonal_df['prev_year_month'] = seasonal_df.end_time_year_month\\\n",
    ".apply(lambda x: (datetime.strptime(x, '%Y-%m') + relativedelta(years=-1)).strftime('%Y-%m'))\n",
    "\n",
    "seasonal_df = pd.merge(seasonal_df[['end_time_year_month', 'rental_count']], seasonal_df, left_on='end_time_year_month', right_on='prev_year_month')\\\n",
    ".sort_index()[['end_time_year_month_y', 'rental_count_x', 'rental_count_y']]\\\n",
    "\n",
    "\n",
    "seasonal_df.columns = ['year_month', 'ly_same_month_rental_count', 'rental_count']\n",
    "seasonal_df['pct_increase'] = seasonal_df\\\n",
    ".apply(lambda row: int((row['rental_count'] - row['ly_same_month_rental_count']) * 100 / row['ly_same_month_rental_count']), axis=1)\n",
    "\n"
   ]
  },
  {
   "cell_type": "markdown",
   "metadata": {
    "slideshow": {
     "slide_type": "slide"
    }
   },
   "source": [
    "* Number of rentals per month is compared with same month in previous year. For example October 2018 is compared in October 2017. Percent increase of the metric value from same month in previous year is used as basis and posted as annotation. \n",
    "\n",
    "* Though business slows down during winter months, rental volume increased by 50-60% during the period. For summer months, business grew by more than 100%."
   ]
  },
  {
   "cell_type": "code",
   "execution_count": null,
   "metadata": {
    "slideshow": {
     "slide_type": "slide"
    }
   },
   "outputs": [],
   "source": [
    "# Visualization of monthly rental volume compared to data from same month last year\n",
    "fig, ax = plt.subplots(figsize=(16,8))\n",
    "width = 0.35\n",
    "ind = np.arange(len(seasonal_df.year_month.tolist()))\n",
    "plt.bar(\n",
    "    ind,\n",
    "    seasonal_df.ly_same_month_rental_count,\n",
    "    alpha=0.8, \n",
    "    color='r',\n",
    "    width=width\n",
    ");\n",
    "ax2 = plt.bar(\n",
    "    ind + width,\n",
    "    seasonal_df.rental_count,\n",
    "    alpha=0.8, \n",
    "    color='b',\n",
    "    width=width\n",
    ");\n",
    "\n",
    "labels = map(lambda x: str(x) + '%', seasonal_df.pct_increase.tolist())\n",
    "\n",
    "plt.legend(['Month (Prev Year)', 'Current Month'])\n",
    "plt.xticks(ind + width / 2.0, seasonal_df.year_month.tolist(), rotation=45);\n",
    "\n",
    "plt.ylabel('Rental Count')\n",
    "plt.xlabel('Month (Year-month)')\n",
    "plt.title('Monthly number of rentals compared with same month of previous year');\n",
    "\n",
    "for rect, label in zip(ax2.patches, labels):\n",
    "    height = rect.get_height()\n",
    "    ax.text(rect.get_x() + rect.get_width() / 2, height + 5, label,\n",
    "            ha='center', va='bottom')"
   ]
  },
  {
   "cell_type": "code",
   "execution_count": null,
   "metadata": {
    "slideshow": {
     "slide_type": "skip"
    }
   },
   "outputs": [],
   "source": [
    "# Aggregate cumulative rental volume by gender and age range\n",
    "agg_df = df.query('end_time_year_month <= \"2019-03\"')[['member_gender', 'member_age_bracket', 'bike_id', 'end_time_year_month']]\\\n",
    ".groupby(['member_gender', 'member_age_bracket', 'end_time_year_month'])\\\n",
    ".agg({'bike_id': 'count'})\\\n",
    ".rename(columns={'bike_id': 'rental_count'})\n",
    "\n",
    "agg_df['cumulative_rental_count'] = \\\n",
    "agg_df.groupby(['member_gender', 'member_age_bracket']).rental_count.transform(np.cumsum)\n",
    "agg_df.reset_index(inplace=True)\n",
    "agg_df = agg_df.query(\"end_time_year_month >= '2017-07' and end_time_year_month < '2019-03'\")\n"
   ]
  },
  {
   "cell_type": "markdown",
   "metadata": {
    "slideshow": {
     "slide_type": "slide"
    }
   },
   "source": [
    "* 25 - 30 & 30- 35 are fastest growing age brackets in both gender who are increasingly using bike rental\n",
    "* For male members, 30-35 age bracket has significantly outperformed 25-30 age bracket\n",
    "* For female members, 25-30 and 30-35 age groups are competing very closely.\n",
    "* 25-30 female age group surpasses 30-35 in bike usage around October 2018 and maintained the lead till March 2019."
   ]
  },
  {
   "cell_type": "code",
   "execution_count": null,
   "metadata": {
    "slideshow": {
     "slide_type": "slide"
    }
   },
   "outputs": [],
   "source": [
    "# Plot cumulative rental count for female bikers upto age bracket 45 - 50 years\n",
    "fig, ax = plt.subplots(figsize=(16,8))\n",
    "sns.set(style=\"whitegrid\")\n",
    "sns.lineplot(data=agg_df.query(\"member_gender == 'Female' and member_age_bracket >= '20 - 25' and member_age_bracket <= '45 - 50'\"), \n",
    "             x='end_time_year_month', \n",
    "             y='cumulative_rental_count', \n",
    "             hue='member_age_bracket', \n",
    "             estimator=None);\n",
    "ax.set_ylabel('Cumulative rental count', fontsize=14)\n",
    "ax.set_xlabel('Months (Year-Month)', fontsize=14)\n",
    "plt.xticks(rotation=25)\n",
    "ax.set_title('Cumulative monthly rental count of different age groups of female bikers', fontsize=14);\n",
    "plt.legend().get_texts()[0].set_text(\"Age bracket\")\n",
    "\n"
   ]
  },
  {
   "cell_type": "code",
   "execution_count": null,
   "metadata": {
    "slideshow": {
     "slide_type": "slide"
    }
   },
   "outputs": [],
   "source": [
    "# Plot cumulative rental count for male bikers\n",
    "fig, ax = plt.subplots(figsize=(16,8))\n",
    "sns.set(style=\"whitegrid\")\n",
    "sns.lineplot(data=agg_df.query(\"member_gender == 'Male' and member_age_bracket >= '20 - 25' and member_age_bracket <= '45 - 50'\"), \n",
    "             x='end_time_year_month', \n",
    "             y='cumulative_rental_count', \n",
    "             hue='member_age_bracket', \n",
    "             estimator=None);\n",
    "ax.set_ylabel('Cumulative rental count', fontsize=14)\n",
    "ax.set_title('Cumulative monthly rental count of different age groups of male bikers', fontsize=14)\n",
    "plt.xticks(rotation=25)\n",
    "ax.legend()\n",
    "ax.set_xlabel('Date (Year-Month)', fontsize=14)\n",
    "plt.legend().get_texts()[0].set_text(\"Age bracket\")\n",
    "\n",
    "    "
   ]
  },
  {
   "cell_type": "code",
   "execution_count": null,
   "metadata": {
    "slideshow": {
     "slide_type": "skip"
    }
   },
   "outputs": [],
   "source": [
    "# Aggregate bike rental number by day of week\n",
    "day_agg_df = \\\n",
    "df.groupby(['day_of_week']).agg({'bike_id': 'count'}).reset_index().rename(columns={'bike_id': 'rental_count'})\n",
    "day_agg_df['total_rental_count'] = day_agg_df.rental_count.sum()\n",
    "day_agg_df['pct_of_total'] = round(day_agg_df.rental_count * 100 / day_agg_df.total_rental_count, 2)\n",
    "\n",
    "cat_type = CategoricalDtype(categories=['Monday', 'Tuesday', 'Wednesday', 'Thursday', 'Friday', 'Saturday', 'Sunday'], ordered=True)\n",
    "day_agg_df['day_of_week'] = day_agg_df['day_of_week'].astype(cat_type)\n",
    "# Sort dataframe based on days of the week (categorical variable)\n",
    "day_agg_df = day_agg_df.sort_values(by=['day_of_week'])"
   ]
  },
  {
   "cell_type": "markdown",
   "metadata": {
    "slideshow": {
     "slide_type": "slide"
    }
   },
   "source": [
    "* Bike rental business shows periodicity with respect to day of week. \n",
    "* Number of rentals are lowest over the weekend - Saturday & Sunday. Monday & Friday are relatively low volume days compared to middle of the week. \n",
    "* This brings an interest guess about the purpose of bike rental - whether the main usage is  - pleasure or business use? The fact that the volume of business goes down drastically over the weekend and peaks up steam during middle of the week is indicative that the prime usage is for commuting to office. "
   ]
  },
  {
   "cell_type": "code",
   "execution_count": null,
   "metadata": {
    "slideshow": {
     "slide_type": "slide"
    }
   },
   "outputs": [],
   "source": [
    "plt.subplots(figsize=(20,10))\n",
    "sns.set(style=\"whitegrid\")\n",
    "g = sns.barplot(x=\"day_of_week\", \n",
    "                 y=\"pct_of_total\", \n",
    "                 data=day_agg_df, \n",
    "                 color=sns.color_palette()[0], \n",
    "                 alpha = 0.6)\n",
    "g.set_xlabel('Day of week', fontsize=16)\n",
    "g.set_ylabel('% of total rentals', fontsize=16)\n",
    "g.set_title('% of total rentals by day of week', fontsize=16);"
   ]
  },
  {
   "cell_type": "code",
   "execution_count": null,
   "metadata": {
    "slideshow": {
     "slide_type": "skip"
    }
   },
   "outputs": [],
   "source": [
    "# Aggregate bike rental number by day of week\n",
    "\n",
    "def agg_rental_count_by_user_type(row):\n",
    "    return day_agg_df.query(\"user_type == '%s'\" % row['user_type'])[['rental_count']].sum()\n",
    "\n",
    "day_agg_df = \\\n",
    "df.groupby(['day_of_week', 'user_type']).agg({'bike_id': 'count'}).reset_index().rename(columns={'bike_id': 'rental_count'})\n",
    "day_agg_df['total_rental_count'] = day_agg_df.apply(lambda row: agg_rental_count_by_user_type(row), axis=1)\n",
    "day_agg_df['pct_of_total'] = round(day_agg_df.rental_count * 100 / day_agg_df.total_rental_count, 2)\n",
    "\n",
    "cat_type = CategoricalDtype(categories=['Monday', 'Tuesday', 'Wednesday', 'Thursday', 'Friday', 'Saturday', 'Sunday'], ordered=True)\n",
    "day_agg_df['day_of_week'] = day_agg_df['day_of_week'].astype(cat_type)\n",
    "# Sort dataframe based on days of the week (categorical variable)\n",
    "day_agg_df = day_agg_df.sort_values(by=['day_of_week'])"
   ]
  },
  {
   "cell_type": "markdown",
   "metadata": {
    "slideshow": {
     "slide_type": "slide"
    }
   },
   "source": [
    "* Rental behavior of `customers` is different from that of `subscribers`. \n",
    "* Rental volume of customers increases during the weekend. One hypothesis is - this group rent the bike primarily for leisure usage."
   ]
  },
  {
   "cell_type": "code",
   "execution_count": null,
   "metadata": {
    "slideshow": {
     "slide_type": "slide"
    }
   },
   "outputs": [],
   "source": [
    "fig, ax = plt.subplots(figsize=(16, 8))\n",
    "sns.set(style=\"whitegrid\")\n",
    "g = sns.catplot(\n",
    "    x=\"day_of_week\", \n",
    "    y=\"pct_of_total\", \n",
    "    hue=\"user_type\", \n",
    "    data=day_agg_df, \n",
    "    kind=\"bar\",\n",
    "    ax=ax)\n",
    "ax.set_xlabel('Day of week', fontsize=14)\n",
    "ax.set_ylabel('% of daily total rides for respective user type', fontsize=14)\n",
    "ax.set_title('% of daily rentals by day of week and user type', fontsize=14);\n",
    "plt.close(2)\n",
    "\n"
   ]
  },
  {
   "cell_type": "code",
   "execution_count": null,
   "metadata": {
    "slideshow": {
     "slide_type": "skip"
    }
   },
   "outputs": [],
   "source": [
    "def agg_by_user_type_month(x, y):\n",
    "    return day_agg_df.query(\"user_type == '%s' and end_time_year_month == '%s'\" % (x,y))['rental_count'].sum()\n",
    "\n",
    "# Aggregate bike rental number by day of week, user_type and month\n",
    "day_agg_df = \\\n",
    "df.query(\"end_time_year_month >= '2018-01' and end_time_year_month <= '2018-12'\").\\\n",
    "groupby(['day_of_week', 'user_type', 'end_time_year_month']).agg({'bike_id': 'count'})\\\n",
    ".reset_index()\\\n",
    ".rename(columns={'bike_id': 'rental_count'})\n",
    "\n",
    "day_agg_df['monthly_rental_count_utype'] = \\\n",
    "day_agg_df.apply(lambda row: agg_by_user_type_month(row['user_type'], row['end_time_year_month']), axis=1)\n",
    "\n",
    "day_agg_df['pct_of_total'] = day_agg_df.rental_count * 100 / day_agg_df.monthly_rental_count_utype\n",
    "day_agg_df.pct_of_total = day_agg_df.pct_of_total.astype(int)\n",
    "\n",
    "cat_type = CategoricalDtype(categories=['Monday', 'Tuesday', 'Wednesday', 'Thursday', 'Friday', 'Saturday', 'Sunday'], ordered=True)\n",
    "day_agg_df['day_of_week'] = day_agg_df['day_of_week'].astype(cat_type)\n",
    "# Sort dataframe based on days of the week (categorical variable)\n",
    "day_agg_df = day_agg_df.sort_values(by=['end_time_year_month','day_of_week'])\n"
   ]
  },
  {
   "cell_type": "markdown",
   "metadata": {
    "slideshow": {
     "slide_type": "slide"
    }
   },
   "source": [
    "This multivariate plot below coroborates some of the pervious observation.\n",
    "\n",
    "* Across all months weekend volumes are always lower than the weekday.\n",
    "* For non-subscribers higher percentage of bike rental happens on weekends. This segment appears to be casual users.\n",
    "* For subscribers, the rental volume peaking near the middle of the week, is only partly supported by this analysis. Months like January, Febuary or March follow that pattern. April shows Mondays as the highest volume days and then % volume going down progressively for rest of the week. 2018 April calendar shows there were 5 Sundays and 5 Mondays in that month and 4 for the remaining days of the week. That can partly explain that trend."
   ]
  },
  {
   "cell_type": "code",
   "execution_count": null,
   "metadata": {
    "slideshow": {
     "slide_type": "slide"
    }
   },
   "outputs": [],
   "source": [
    "fig, ax = plt.subplots(4, 3, figsize=(20, 16), sharex=\"col\", sharey=\"row\")\n",
    "fig.suptitle('Total rental % by day of week, month & user type', fontsize=20)\n",
    "plt.subplots_adjust(wspace=0, hspace=.01, top=0.96)\n",
    "all_months = day_agg_df.end_time_year_month.unique().tolist()\n",
    "index = 0\n",
    "g = []\n",
    "for j in range(len(ax)):\n",
    "    for i in range(len(ax[j])):\n",
    "        temp_df = day_agg_df.query(\"end_time_year_month == '%s'\" % all_months[index])\n",
    "        for item in ([ax[j][i].title, ax[j][i].xaxis.label, ax[j][i].yaxis.label] + ax[j][i].get_xticklabels() + ax[j][i].get_yticklabels()): \n",
    "            item.set_fontsize(12)\n",
    "        g = \\\n",
    "            sns.catplot(\n",
    "                x=\"day_of_week\", \n",
    "                y=\"pct_of_total\", \n",
    "                hue=\"user_type\", \n",
    "                data=temp_df,  \n",
    "                kind=\"bar\", \n",
    "                ax=ax[j][i]\n",
    "            )\n",
    "        g.axes[0][0].set_xlabel('')\n",
    "        index = index + 1\n",
    " \n",
    "for i in range(2,14):\n",
    "    plt.close(i)\n",
    "    \n",
    "month_labels = ['Jan', 'Feb', 'Mar', 'Apr', 'May', 'Jun', 'Jul', 'Aug', 'Sep', 'Oct', 'Nov', 'Dec']\n",
    "index = 0\n",
    "label_index = 0\n",
    "for j in range(len(ax)):\n",
    "    for i in range(len(ax[j])):\n",
    "        ax[j][i].set_title(month_labels[label_index],x=0.5, y=0.9)\n",
    "        if j == 0 and i == 2:\n",
    "            pass\n",
    "        else:\n",
    "            ax[j][i].get_legend().set_visible(False)\n",
    "        if i == 0:\n",
    "            ax[j][i].set_ylabel('Rental pct in same user type', fontsize=12)\n",
    "            ax[j][i].set_yticks([0, 5, 10, 15, 20])\n",
    "            index = index + 1\n",
    "        else:\n",
    "            ax[j][i].set_ylabel('')\n",
    "        if j == len(ax) - 1:\n",
    "            ax[j][i].set_xlabel('Day of the week', fontsize=12)\n",
    "            ax[j][i].set_xticklabels(['Mon', 'Tues', 'Wed', 'Thurs', 'Fri', 'Sat', 'Sun'])\n",
    "        else:\n",
    "            ax[j][i].set_xlabel('')\n",
    "        label_index = label_index + 1"
   ]
  },
  {
   "cell_type": "code",
   "execution_count": null,
   "metadata": {
    "slideshow": {
     "slide_type": "skip"
    }
   },
   "outputs": [],
   "source": [
    "# Rental volume aggregation by hour and day type (week day / weekend)\n",
    "def agg_rental_by_day_type(row):\n",
    "    return hourly_df.query(\"is_weekend == %s\" % (row['is_weekend']))['rental_count'].sum()\n",
    "\n",
    "df['is_weekend'] = df.day_of_week.apply(lambda x: True if x in ['Saturday', 'Sunday'] else False)\n",
    "\n",
    "hourly_df = df.query(\"end_time_year_month < '2018-03'\")[['end_time_hour', 'is_weekend', 'bike_id']]\\\n",
    ".groupby(['end_time_hour', 'is_weekend'])\\\n",
    ".agg({'bike_id': 'count'})\\\n",
    ".reset_index()\\\n",
    ".rename(columns={'bike_id': 'rental_count'})\n",
    "\n",
    "hourly_df['total_hourly_rental'] = hourly_df.apply(lambda row: agg_rental_by_day_type(row), axis=1)\n",
    "hourly_df['pct_hourly_rental'] = round(hourly_df.rental_count * 100 / hourly_df.total_hourly_rental, 2)"
   ]
  },
  {
   "cell_type": "markdown",
   "metadata": {
    "slideshow": {
     "slide_type": "slide"
    }
   },
   "source": [
    "\n",
    "* Week day rental pattern is very different from week day pattern.\n",
    "* Week days shows a bimodal distribution with two clear peaks during office commuting hours 7:00 - 10:00 AM and then again in the evening when commuters head out from work between 3:00 PM - 7:30 PM\n",
    "* Weekend shows business volume increasing smoothly from 9:00 AM till 12 noon and going down from noon time till 8 PM. Most probably these are for pleasure trips to city and surrounding areas."
   ]
  },
  {
   "cell_type": "code",
   "execution_count": null,
   "metadata": {
    "slideshow": {
     "slide_type": "slide"
    }
   },
   "outputs": [],
   "source": [
    "fig, ax = plt.subplots(figsize=(16,8))\n",
    "sns.lineplot(data=hourly_df, \n",
    "             x='end_time_hour', \n",
    "             y='pct_hourly_rental', \n",
    "             hue='is_weekend', \n",
    "             estimator=None);\n",
    "ax.set_ylabel('% hourly ride', fontsize=14)\n",
    "ax.set_title('Percentage rental volume by hour of the day', fontsize=14);\n",
    "ax.set_xlabel('Hour of the day (00 - 23)', fontsize=14)\n",
    "plt.xticks(np.arange(0, 26, 2))\n",
    "ax.legend(['Weekday', 'Weekend']);"
   ]
  },
  {
   "cell_type": "code",
   "execution_count": null,
   "metadata": {},
   "outputs": [],
   "source": [
    "# Hourly bike rental volume segmented by gender and age bracket\n",
    "hourly_df = df.query(\"end_time_year_month < '2018-03' and member_age_bracket >= '20 - 25' and member_age_bracket <= '30 - 35' and is_weekend == False\")\\\n",
    ".query(\"member_gender == 'Male' or member_gender == 'Female'\")[['end_time_hour', 'member_gender', 'member_age_bracket', 'bike_id']]\\\n",
    ".groupby(['end_time_hour', 'member_age_bracket', 'member_gender'])\\\n",
    ".agg({'bike_id': 'count'})\\\n",
    ".reset_index()\\\n",
    ".rename(columns={'bike_id': 'rental_count'})\n",
    "\n",
    "def agg_rental_by_hour_age(row):\n",
    "    return hourly_df.query(\"member_gender == '%s'\" % \\\n",
    "                           (row['member_gender']))['rental_count'].sum()\n",
    "    \n",
    "hourly_df['total_rental_count'] = hourly_df.apply(lambda x: agg_rental_by_hour_age(x), axis=1)\n",
    "\n",
    "hourly_df['pct_rental_count'] = hourly_df['rental_count'] * 100 / hourly_df['total_rental_count']"
   ]
  },
  {
   "cell_type": "markdown",
   "metadata": {
    "slideshow": {
     "slide_type": "slide"
    }
   },
   "source": [
    "The faceted graph below displays % of total rental percentage segmented by hour of the day, age bracket & gender. Three groups chosen to be plotted are 20-25, 25-30 & 30-35. These are the three most active age groups within both genders.\n",
    "\n",
    "Rental pattern by male bikers is same as their female counterparts. But relatively higher percentage of female bikers tend to reach their destination by 8:00 AM. "
   ]
  },
  {
   "cell_type": "code",
   "execution_count": null,
   "metadata": {
    "slideshow": {
     "slide_type": "slide"
    }
   },
   "outputs": [],
   "source": [
    "g = sns.FacetGrid(hourly_df, col=\"member_gender\", hue='member_age_bracket')\n",
    "g.map(sns.lineplot, 'end_time_hour','pct_rental_count', estimator=None, legend='full')\n",
    "plt.gcf().set_size_inches(16, 8)\n",
    "plt.legend(title='Age Group', fontsize=16)\n",
    "g.axes[0][0].set_ylabel('% of total rental in same gender', size=16)\n",
    "g.axes[0][0].set_xlabel('Hour of the day', size=16)\n",
    "g.axes[0][1].set_xlabel('Hour of the day', size=16)\n",
    "g.axes[0][0].set_title('Gender = Female', size=16)\n",
    "g.axes[0][1].set_title('Gender = Male', size=16);\n",
    "plt.suptitle(\"Rental % by gender, hour of the day and age brackets\");"
   ]
  },
  {
   "cell_type": "markdown",
   "metadata": {
    "slideshow": {
     "slide_type": "slide"
    }
   },
   "source": [
    "The faceted graph above displays total rental percentage segmented by hour of the day. Additional dimensions are gender and age bracket. Within each graph, I have chosen 3 age groups to be plotted 20-25, 25-30 & 30-35. These are the three most active age groups within both genders.\n",
    "\n",
    "* Rental pattern by male bikers follows similar pattern as female counterparts.\n",
    "* Relatively higher percentage of female bikers tend to reach their destination by 8:00 AM. This indicated by the sharp peak in the graph on left hand side.\n",
    "\n",
    "To highlight this trend, I have combined male & female bikers in age group '30 - 35' into a single multi-line graph."
   ]
  },
  {
   "cell_type": "code",
   "execution_count": null,
   "metadata": {
    "slideshow": {
     "slide_type": "slide"
    }
   },
   "outputs": [],
   "source": [
    "fig, ax = plt.subplots(figsize=(16,8))\n",
    "sns.lineplot(data=hourly_df.query(\"member_age_bracket == '30 - 35'\"), \n",
    "             x='end_time_hour', \n",
    "             y='pct_rental_count', \n",
    "             hue='member_gender', \n",
    "             estimator=None);\n",
    "ax.set_ylabel('Pct rental count for same gender', fontsize=14)\n",
    "ax.set_title('Rental volume by hour of the day, gender and age brackets', fontsize=14)\n",
    "plt.xticks(np.arange(0, 26, 2))\n",
    "ax.set_xlabel('Hour of the day (00 - 23)', fontsize=14);"
   ]
  },
  {
   "cell_type": "code",
   "execution_count": null,
   "metadata": {
    "slideshow": {
     "slide_type": "skip"
    }
   },
   "outputs": [],
   "source": [
    "median_rental_df = \\\n",
    "df.query(\"member_age_bracket >= '20 - 25' and member_age_bracket <= '35 - 40'\")\\\n",
    ".query(\"member_gender == 'Male' or member_gender == 'Female'\")\\\n",
    ".groupby(['member_gender', 'user_type', 'end_time_hour', 'day_of_week', 'end_date'])\\\n",
    ".agg({'bike_id': 'count'})\\\n",
    ".reset_index()\\\n",
    ".rename(columns={'bike_id': 'rental_count'})\n",
    "\n",
    "median_rental_df = \\\n",
    "median_rental_df.groupby(['member_gender', 'user_type', 'end_time_hour', 'day_of_week'])\\\n",
    ".agg({'rental_count': 'median'})\\\n",
    ".reset_index()\\\n",
    ".rename(columns={'rental_count': 'median_rental_count'})\n",
    "\n",
    "median_rental_df['median_rental_count'] = median_rental_df['median_rental_count'].astype('int')\n",
    "\n",
    "day_hour_rental_df = \\\n",
    "median_rental_df.pivot_table(\n",
    "    index=['end_time_hour','member_gender', 'user_type'], \n",
    "    columns='day_of_week', \n",
    "    values='median_rental_count', \n",
    "    fill_value = 0)\\\n",
    ".reset_index()[['end_time_hour', 'member_gender', 'user_type', 'Monday', 'Tuesday', 'Wednesday', 'Thursday', 'Friday', 'Saturday', 'Sunday']]\n",
    " \n",
    "day_hour_rental_df['user'] = day_hour_rental_df.apply(lambda row: row['member_gender'] + ' ' + row['user_type'], axis=1)\n",
    "\n"
   ]
  },
  {
   "cell_type": "markdown",
   "metadata": {
    "slideshow": {
     "slide_type": "slide"
    }
   },
   "source": [
    "\n",
    "* Following group of four heat maps are corresponding 4 user segments - female customer, female subscriber, male customer & male subscriber. The annotations in the heat map show the median value of the bike rental count for age groups between 20 - 40 years. \n",
    "\n",
    "* Rental pattern shows non-subscribers are primarily using the rental during the weekend and subscribers are using it during regular commute hours between Monday through Friday."
   ]
  },
  {
   "cell_type": "code",
   "execution_count": null,
   "metadata": {
    "slideshow": {
     "slide_type": "slide"
    }
   },
   "outputs": [],
   "source": [
    "fig, ax = plt.subplots(2, 2, figsize=(20, 15), sharex=\"col\", sharey=\"row\")\n",
    "fig.suptitle('Variation of median rental volume by day of week, hour, gender & user type for 20-40 yrs', fontsize=20)\n",
    "user = day_hour_rental_df.user.unique().tolist()\n",
    "plt.subplots_adjust(wspace=0, hspace=.1, top=0.90)\n",
    "index = 0\n",
    "for j in range(len(ax)):\n",
    "    for i in range(len(ax[j])):\n",
    "        temp_df = day_hour_rental_df.query(\"user == '%s'\" % user[index])[['end_time_hour', 'Monday', 'Tuesday', 'Wednesday', 'Thursday', 'Friday', 'Saturday', 'Sunday']]\n",
    "        temp_df = temp_df.set_index('end_time_hour')\n",
    "        index = index + 1\n",
    "        g = sns.heatmap(temp_df, annot=True, fmt=\"d\", linewidths=.2, cmap=\"YlGnBu\", annot_kws={\"size\":16}, ax=ax[j][i]);\n",
    "        \n",
    "index = 0\n",
    "for j in range(len(ax)):\n",
    "    for i in range(len(ax[j])):\n",
    "        if i == 0:\n",
    "            ax[j][i].set_ylabel('Hour of day', fontsize=14)\n",
    "        else:\n",
    "            ax[j][i].set_ylabel('')\n",
    "        ax[j][i].set_title('%s' % user[index], fontsize=14)\n",
    "        index = index + 1\n",
    "        if j == len(ax) - 1:\n",
    "            ax[j][i].set_xlabel('Day of the week', fontsize=14)\n",
    "            ax[j][i].set_xticklabels(['Mon', 'Tues', 'Wed', 'Thurs', 'Fri', 'Sat', 'Sun'])\n",
    "        else:\n",
    "            ax[j][i].set_xlabel('')\n",
    "\n"
   ]
  },
  {
   "cell_type": "markdown",
   "metadata": {
    "slideshow": {
     "slide_type": "slide"
    }
   },
   "source": [
    "## San Francisco Weather"
   ]
  },
  {
   "cell_type": "code",
   "execution_count": null,
   "metadata": {
    "slideshow": {
     "slide_type": "skip"
    }
   },
   "outputs": [],
   "source": [
    "sf_weather_df = pd.read_csv(\"data/SF_Weather.csv\")\n",
    "sf_weather_df = sf_weather_df[sf_weather_df.NAME.str.startswith('SAN FRANCISCO DOWNTOWN')][['NAME', 'DATE', 'PRCP', 'TMIN', 'TMAX']]\n"
   ]
  },
  {
   "cell_type": "code",
   "execution_count": null,
   "metadata": {
    "slideshow": {
     "slide_type": "skip"
    }
   },
   "outputs": [],
   "source": [
    "daily_agg_df = df[['end_date', 'day_of_week', 'bike_id']]\\\n",
    ".groupby(['end_date', 'day_of_week'], as_index=False)\\\n",
    ".agg({'bike_id': 'count'})\\\n",
    ".rename(columns={'bike_id': 'rental_count'})\n",
    "\n",
    "merged_df = pd.merge(daily_agg_df, sf_weather_df, left_on='end_date', right_on='DATE')[['end_date', 'day_of_week', 'PRCP', 'TMIN', 'TMAX', 'rental_count']]\\\n",
    ".rename(columns={'PRCP': 'precipitation', 'TMIN': 'min_temp', 'TMAX': 'max_temp'})\n",
    "\n"
   ]
  },
  {
   "cell_type": "code",
   "execution_count": null,
   "metadata": {
    "slideshow": {
     "slide_type": "skip"
    }
   },
   "outputs": [],
   "source": [
    "\"\"\"\n",
    "Generic routine to plot dual y-axis line graph\n",
    "Input parameters:\n",
    "  df: dataframe containing bike rental count & precipitation data\n",
    "  start_date: Period starting date in the format YYYY-MM-DD\n",
    "  end_date: Period end date in . the format YYYY-MM-DD\n",
    "\"\"\"\n",
    "def plot_monthly_rental(df, start_date, end_date):\n",
    "    daily_df = df.query(\"end_date >= '%s' and end_date <= '%s'\" % (start_date, end_date))\n",
    "    fig, ax = plt.subplots(figsize=(16,8))\n",
    "    line1 = ax.plot(daily_df.end_date, daily_df.rental_count, c='b', alpha=0.8)\n",
    "    ax.set_title('Daily bike rental count and rainfall (in inches) in San Francisco city for period: %s to %s' % (start_date, end_date), fontsize=14)\n",
    "    ax.set_xlabel('Rental Date', fontsize=14)\n",
    "    ax.set_ylabel('Rental count',fontsize=14) \n",
    "\n",
    "    ax2 = ax.twinx()\n",
    "    line2 = ax2.plot(daily_df.end_date, daily_df.precipitation, c='g', alpha=0.8)\n",
    "    ax2.set_ylabel('Precipitation (inches)',fontsize=14);\n",
    "    h1, l1 = ax.get_legend_handles_labels()\n",
    "    h2, l2 = ax2.get_legend_handles_labels()\n",
    "    plt.legend(h1 + h2, ['rental count', 'precipitation'], loc=1);\n",
    "\n",
    "    x_ticks = daily_df.query(\"day_of_week == 'Sunday'\").end_date\n",
    "    ax.set_xticks(x_ticks)\n",
    "    ax.set_xticklabels(x_ticks, rotation=45);\n",
    "    ax.grid(b=True, alpha=0.4)\n",
    "    \n",
    "    \n",
    "    "
   ]
  },
  {
   "cell_type": "markdown",
   "metadata": {
    "slideshow": {
     "slide_type": "slide"
    }
   },
   "source": [
    "\n",
    "<ol>\n",
    "<li>Daily precipitation data from NOAA has been plotted along with daily bike rental volume in the dual axis graph</li>\n",
    "<li>With barely no rain happening between the months of May through October, rental volume follows the weekly cyclical pattern. Only a day of rain in the first week October didn't have any impact as amount of precipitation is only 0.2 inch</li>\n",
    "</ol>"
   ]
  },
  {
   "cell_type": "code",
   "execution_count": null,
   "metadata": {
    "slideshow": {
     "slide_type": "slide"
    }
   },
   "outputs": [],
   "source": [
    "# Daily bike rental count & preciptation number for Jan 2018 to Mar 2018\n",
    "plot_monthly_rental(merged_df, '2018-01-01', '2018-03-31')\n",
    "\n",
    "    "
   ]
  },
  {
   "cell_type": "markdown",
   "metadata": {
    "slideshow": {
     "slide_type": "slide"
    }
   },
   "source": [
    "Rain in November and December impacts the business. Every of precipitation can be tied to a dip in bike rental"
   ]
  },
  {
   "cell_type": "code",
   "execution_count": 1083,
   "metadata": {
    "slideshow": {
     "slide_type": "slide"
    }
   },
   "outputs": [
    {
     "data": {
      "image/png": "[encoded data removed]",
      "text/plain": [
       "<Figure size 1152x576 with 2 Axes>"
      ]
     },
     "metadata": {},
     "output_type": "display_data"
    }
   ],
   "source": [
    "# Daily bike rental count & preciptation number for Nov 2018 to Dec 2018\n",
    "plot_monthly_rental(merged_df, '2018-11-01', '2018-12-31')"
   ]
  }
 ],
 "metadata": {
  "celltoolbar": "Slideshow",
  "kernelspec": {
   "display_name": "Python 3",
   "language": "python",
   "name": "python3"
  },
  "language_info": {
   "codemirror_mode": {
    "name": "ipython",
    "version": 3
   },
   "file_extension": ".py",
   "mimetype": "text/x-python",
   "name": "python",
   "nbconvert_exporter": "python",
   "pygments_lexer": "ipython3",
   "version": "3.7.1"
  }
 },
 "nbformat": 4,
 "nbformat_minor": 2
}
